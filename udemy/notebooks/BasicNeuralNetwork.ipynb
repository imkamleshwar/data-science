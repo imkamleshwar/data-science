{
 "cells": [
  {
   "cell_type": "markdown",
   "id": "eb73f334-0f1a-491c-9888-e7b42195ad8c",
   "metadata": {},
   "source": [
    "## Basic Neural Network"
   ]
  },
  {
   "cell_type": "code",
   "execution_count": 1,
   "id": "7de37999-d2e3-4d83-b0d1-b0fdc63a136a",
   "metadata": {},
   "outputs": [],
   "source": [
    "import numpy as np\n",
    "import matplotlib.pyplot as plt\n",
    "from mpl_toolkits.mplot3d import Axes3D"
   ]
  },
  {
   "cell_type": "code",
   "execution_count": 2,
   "id": "a3fc612c-4c03-4a2a-9ad1-3752d38fe1b8",
   "metadata": {},
   "outputs": [],
   "source": [
    "observations = 1000"
   ]
  },
  {
   "cell_type": "code",
   "execution_count": 3,
   "id": "76626bc2-b172-44d7-8011-5cbddc3d0931",
   "metadata": {},
   "outputs": [],
   "source": [
    "xs = np.random.uniform(low=-10,high=10,size=(observations,1))\n",
    "zs = np.random.uniform(low=-10,high=10,size=(observations,1))"
   ]
  },
  {
   "cell_type": "code",
   "execution_count": 4,
   "id": "039a2815-f7b8-47b8-b61d-6509898a367d",
   "metadata": {},
   "outputs": [
    {
     "data": {
      "text/plain": [
       "(1000, 2)"
      ]
     },
     "execution_count": 4,
     "metadata": {},
     "output_type": "execute_result"
    }
   ],
   "source": [
    "inputs = np.column_stack((xs,zs))\n",
    "inputs.shape"
   ]
  },
  {
   "cell_type": "code",
   "execution_count": 5,
   "id": "bd57d14e-d3e1-4986-98ad-2768802b955a",
   "metadata": {},
   "outputs": [],
   "source": [
    "noise = np.random.uniform(low=-1, high=1, size=(observations,1))"
   ]
  },
  {
   "cell_type": "code",
   "execution_count": 6,
   "id": "28329c89-d08a-4544-9bac-0cae3c3953eb",
   "metadata": {},
   "outputs": [],
   "source": [
    "target = 2*xs - 3*zs + 5 + noise"
   ]
  },
  {
   "cell_type": "code",
   "execution_count": 7,
   "id": "3afa11dd-865a-4ce6-b416-885fca00c9d4",
   "metadata": {},
   "outputs": [
    {
     "data": {
      "text/plain": [
       "(1000, 1)"
      ]
     },
     "execution_count": 7,
     "metadata": {},
     "output_type": "execute_result"
    }
   ],
   "source": [
    "target.shape"
   ]
  },
  {
   "cell_type": "code",
   "execution_count": 8,
   "id": "60e9a6a2-40ea-4e5f-9a4b-6f198c998881",
   "metadata": {},
   "outputs": [
    {
     "data": {
      "text/plain": [
       "array([[ 0.00155545],\n",
       "       [-0.06113462]])"
      ]
     },
     "execution_count": 8,
     "metadata": {},
     "output_type": "execute_result"
    }
   ],
   "source": [
    "init_range = 0.1\n",
    "weights = np.random.uniform(-init_range, init_range, size=(2,1))\n",
    "weights"
   ]
  },
  {
   "cell_type": "code",
   "execution_count": 9,
   "id": "64af82cc-8a05-4be9-bb0d-3db325ca8dce",
   "metadata": {},
   "outputs": [
    {
     "data": {
      "text/plain": [
       "array([0.00400514])"
      ]
     },
     "execution_count": 9,
     "metadata": {},
     "output_type": "execute_result"
    }
   ],
   "source": [
    "biases = np.random.uniform(-init_range, init_range, size=1)\n",
    "biases"
   ]
  },
  {
   "cell_type": "code",
   "execution_count": 10,
   "id": "751a9b3f-ec50-4f22-8f25-bf970ef31d00",
   "metadata": {},
   "outputs": [],
   "source": [
    "learning_rate = 0.02\n",
    "weight_copy = weights.copy()\n",
    "biases_copy = biases.copy()"
   ]
  },
  {
   "cell_type": "code",
   "execution_count": 11,
   "id": "ee685b94-ab44-4310-a4fc-e4bb1f158112",
   "metadata": {},
   "outputs": [
    {
     "name": "stdout",
     "output_type": "stream",
     "text": [
      "215.9552957242293\n",
      "36.04141408019265\n",
      "14.599792325922728\n",
      "11.652397952275448\n",
      "10.912906909546964\n",
      "10.45375200497936\n",
      "10.043190464800814\n",
      "9.65256596350984\n",
      "9.27782577627463\n",
      "8.917941429234316\n",
      "8.572276729520109\n",
      "8.240263982958279\n",
      "7.921363282507394\n",
      "7.615056709147955\n",
      "7.320846880408096\n",
      "7.038256066876864\n",
      "6.76682540704617\n",
      "6.5061141610518645\n",
      "6.2556989948689665\n",
      "6.015173292898033\n",
      "5.784146497714362\n",
      "5.562243475893897\n",
      "5.349103908884335\n",
      "5.144381707932164\n",
      "4.9477444521155505\n",
      "4.758872848570601\n",
      "4.577460214034503\n",
      "4.4032119768637115\n",
      "4.235845198718571\n",
      "4.075088115137699\n",
      "3.9206796942561306\n",
      "3.772369212950676\n",
      "3.6299158497242856\n",
      "3.4930882936683165\n",
      "3.3616643688677774\n",
      "3.235430673639653\n",
      "3.114182234018549\n",
      "2.997722170926953\n",
      "2.885861380489716\n",
      "2.7784182269736273\n",
      "2.6752182478535205\n",
      "2.5760938705259693\n",
      "2.480884140210626\n",
      "2.3894344585973295\n",
      "2.301596332814663\n",
      "2.217227134312281\n",
      "2.136189867265551\n",
      "2.058352946126404\n",
      "1.9835899819592104\n",
      "1.9117795772147483\n",
      "1.8428051286090008\n",
      "1.7765546377867212\n",
      "1.7129205294623384\n",
      "1.6517994767428685\n",
      "1.5930922333492383\n",
      "1.536703472463559\n",
      "1.4825416319407068\n",
      "1.4305187656328222\n",
      "1.3805504005853653\n",
      "1.3325553998728128\n",
      "1.2864558308512906\n",
      "1.242176838614203\n",
      "1.1996465244453933\n",
      "1.1587958290724627\n",
      "1.1195584205306777\n",
      "1.0818705864553986\n",
      "1.0456711306281017\n",
      "1.0109012736080645\n",
      "0.9775045572883074\n",
      "0.9454267532208476\n",
      "0.9146157745623966\n",
      "0.8850215914975256\n",
      "0.8565961500019528\n",
      "0.829293293814065\n",
      "0.8030686894879513\n",
      "0.7778797544062691\n",
      "0.7536855876360405\n",
      "0.7304469035151205\n",
      "0.7081259678614713\n",
      "0.6866865367016918\n",
      "0.6660937974192855\n",
      "0.6463143122271287\n",
      "0.6273159638723276\n",
      "0.609067903485321\n",
      "0.5915405004885386\n",
      "0.5747052944832829\n",
      "0.5585349490367026\n",
      "0.5430032072938279\n",
      "0.5280848493425819\n",
      "0.5137556512625533\n",
      "0.4999923457910209\n",
      "0.4867725845423604\n",
      "0.47407490171950506\n",
      "0.4618786792585161\n",
      "0.4501641133496721\n",
      "0.4389121822807209\n",
      "0.42810461555007034\n",
      "0.41772386419977203\n",
      "0.4077530723201268\n",
      "0.3981760496796262\n",
      "0.38897724543581275\n",
      "0.38014172288435183\n",
      "0.37165513520531956\n",
      "0.3635037021673277\n",
      "0.3556741877516531\n",
      "0.34815387866004344\n",
      "0.34093056367129765\n",
      "0.33399251381310147\n",
      "0.3273284633169203\n",
      "0.3209275913250323\n",
      "0.314779504319988\n",
      "0.3088742192479687\n",
      "0.30320214730864836\n",
      "0.297754078385225\n",
      "0.29252116608934736\n",
      "0.2874949133966521\n",
      "0.28266715884958504\n",
      "0.27803006330510427\n",
      "0.2735760972057513\n",
      "0.2692980283534055\n",
      "0.2651889101658951\n",
      "0.2612420703973691\n",
      "0.2574511003041343\n",
      "0.2538098442383569\n",
      "0.25031238965272845\n",
      "0.24695305749987675\n",
      "0.24372639301092103\n",
      "0.24062715683820368\n",
      "0.23765031654781887\n",
      "0.23479103844811558\n",
      "0.2320446797409151\n",
      "0.22940678098269474\n",
      "0.22687305884349332\n",
      "0.2244393991517889\n",
      "0.22210185021404488\n",
      "0.21985661639808785\n",
      "0.21770005196988718\n",
      "0.21562865517373694\n",
      "0.21363906254622578\n",
      "0.21172804345475868\n",
      "0.20989249485176634\n",
      "0.2081294362360829\n",
      "0.20643600481330895\n",
      "0.20480945084730512\n",
      "0.20324713319526194\n",
      "0.2017465150191054\n",
      "0.20030515966626383\n",
      "0.19892072671311484\n",
      "0.197590968164686\n",
      "0.1963137248044367\n",
      "0.19508692268819722\n",
      "0.19390856977656692\n",
      "0.19277675270031044\n",
      "0.1916896336534931\n",
      "0.19064544740931483\n",
      "0.18964249845379502\n",
      "0.18867915823265496\n",
      "0.18775386250692677\n",
      "0.18686510881299534\n",
      "0.18601145402294933\n",
      "0.1851915120012797\n",
      "0.18440395135412013\n",
      "0.18364749326737467\n",
      "0.18292090943022332\n",
      "0.18222302004063246\n",
      "0.18155269188963385\n",
      "0.180908836521257\n",
      "0.18029040846513228\n",
      "0.17969640353889194\n",
      "0.17912585721761246\n",
      "0.17857784306765306\n",
      "0.17805147124234286\n",
      "0.17754588703707952\n",
      "0.1770602695014884\n",
      "0.1765938301063913\n",
      "0.1761458114634201\n",
      "0.17571548609519533\n",
      "0.1753021552540729\n",
      "0.17490514778754193\n",
      "0.17452381904842967\n",
      "0.17415754984814613\n",
      "0.17380574545126637\n",
      "0.17346783460981913\n",
      "0.17314326863571453\n",
      "0.17283152050980286\n",
      "0.17253208402611847\n",
      "0.17224447296992026\n",
      "0.17196822032819262\n",
      "0.17170287753132568\n",
      "0.17144801372474297\n",
      "0.17120321506929528\n",
      "0.17096808406928193\n",
      "0.17074223892701115\n",
      "0.17052531292284995\n",
      "0.17031695381975734\n",
      "0.17011682329133404\n",
      "0.1699245963724593\n",
      "0.16973996093162388\n",
      "0.16956261716410143\n",
      "0.16939227710513555\n",
      "0.16922866416235297\n",
      "0.16907151266664236\n",
      "0.1689205674407689\n",
      "0.16877558338502746\n",
      "0.16863632507925713\n",
      "0.16850256640057462\n",
      "0.16837409015620314\n",
      "0.16825068773080273\n",
      "0.16813215874772694\n",
      "0.16801831074365947\n",
      "0.16790895885609716\n",
      "0.1678039255231774\n",
      "0.1677030401953599\n",
      "0.1676061390584929\n",
      "0.16751306476781785\n",
      "0.16742366619247884\n",
      "0.16733779817012048\n",
      "0.16725532127117956\n",
      "0.16717610157248236\n",
      "0.16710001043978673\n",
      "0.1670269243189083\n",
      "0.166956724535099\n",
      "0.16688929710034614\n",
      "0.1668245325282826\n",
      "0.1667623256564071\n",
      "0.1667025754753244\n",
      "0.16664518496473005\n",
      "0.16659006093587192\n",
      "0.16653711388023365\n",
      "0.16648625782419343\n",
      "0.16643741018942362\n",
      "0.16639049165880215\n",
      "0.16634542604762043\n",
      "0.16630214017987754\n",
      "0.16626056376945877\n",
      "0.16622062930600817\n",
      "0.1661822719453072\n",
      "0.16614542940398275\n",
      "0.16611004185837389\n",
      "0.16607605184739177\n",
      "0.1660434041792172\n",
      "0.16601204584168053\n",
      "0.1659819259161842\n",
      "0.16595299549502085\n",
      "0.1659252076019604\n",
      "0.16589851711597037\n",
      "0.16587288069795084\n",
      "0.16584825672036144\n",
      "0.16582460519962763\n",
      "0.16580188773121754\n",
      "0.16578006742728132\n",
      "0.16575910885675427\n",
      "0.16573897798782503\n",
      "0.16571964213267573\n",
      "0.16570106989440497\n",
      "0.16568323111604594\n",
      "0.16566609683159947\n",
      "0.16564963921899914\n",
      "0.16563383155493555\n",
      "0.16561864817146338\n",
      "0.16560406441432265\n",
      "0.1655900566029065\n",
      "0.16557660199180887\n",
      "0.16556367873389147\n",
      "0.16555126584480928\n",
      "0.16553934316893654\n",
      "0.16552789134663937\n",
      "0.1655168917828396\n",
      "0.16550632661682085\n",
      "0.16549617869322733\n",
      "0.16548643153420703\n",
      "0.16547706931265582\n",
      "0.16546807682651798\n",
      "0.16545943947410138\n",
      "0.16545114323036814\n",
      "0.16544317462416072\n",
      "0.16543552071632842\n",
      "0.16542816907871702\n",
      "0.16542110777398827\n",
      "0.16541432533623646\n",
      "0.16540781075237096\n",
      "0.1654015534442327\n",
      "0.16539554325141836\n",
      "0.1653897704147818\n",
      "0.1653842255605882\n",
      "0.1653788996852926\n",
      "0.16537378414092022\n",
      "0.16536887062102504\n",
      "0.16536415114720088\n",
      "0.16535961805612742\n",
      "0.1653552639871262\n",
      "0.16535108187020842\n",
      "0.1653470649145954\n",
      "0.16534320659769175\n",
      "0.16533950065449435\n",
      "0.16533594106741878\n",
      "0.1653325220565294\n",
      "0.1653292380701529\n",
      "0.16532608377586427\n",
      "0.16532305405182815\n"
     ]
    }
   ],
   "source": [
    "for i in range(300):\n",
    "    output = np.dot(inputs, weight_copy) + biases_copy\n",
    "    deltas = output - target\n",
    "    loss = np.sum(deltas ** 2) / 2 / observations\n",
    "    print(loss)\n",
    "    deltas_scaled = deltas / observations\n",
    "    weight_copy = weight_copy - learning_rate * np.dot(inputs.T, deltas_scaled)\n",
    "    biases_copy = biases_copy - learning_rate * np.sum(deltas_scaled)"
   ]
  },
  {
   "cell_type": "code",
   "execution_count": 12,
   "id": "f771e528-6b10-4d50-8a92-04a1b370f378",
   "metadata": {},
   "outputs": [
    {
     "name": "stdout",
     "output_type": "stream",
     "text": [
      "[[ 2.0000357 ]\n",
      " [-3.00229494]] [4.98591077]\n"
     ]
    }
   ],
   "source": [
    "print(weight_copy, biases_copy)"
   ]
  },
  {
   "cell_type": "code",
   "execution_count": 13,
   "id": "33640242-f61a-4d49-8eaf-e614b5a6eb76",
   "metadata": {},
   "outputs": [
    {
     "data": {
      "image/png": "[encoded data removed]",
      "text/plain": [
       "<Figure size 432x288 with 1 Axes>"
      ]
     },
     "metadata": {
      "needs_background": "light"
     },
     "output_type": "display_data"
    }
   ],
   "source": [
    "plt.plot(output, target)\n",
    "plt.xlabel('output')\n",
    "plt.ylabel('target')\n",
    "plt.show()"
   ]
  }
 ],
 "metadata": {
  "kernelspec": {
   "display_name": "Python 3",
   "language": "python",
   "name": "python3"
  },
  "language_info": {
   "codemirror_mode": {
    "name": "ipython",
    "version": 3
   },
   "file_extension": ".py",
   "mimetype": "text/x-python",
   "name": "python",
   "nbconvert_exporter": "python",
   "pygments_lexer": "ipython3",
   "version": "3.8.10"
  }
 },
 "nbformat": 4,
 "nbformat_minor": 5
}
